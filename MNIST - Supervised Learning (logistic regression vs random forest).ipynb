{
 "cells": [
  {
   "cell_type": "code",
   "execution_count": 23,
   "metadata": {
    "colab": {},
    "colab_type": "code",
    "id": "4r6opegAv77K"
   },
   "outputs": [],
   "source": [
    "import numpy as np\n",
    "import matplotlib.pyplot as plt\n",
    "from sklearn.datasets import load_digits\n",
    "digits = load_digits()"
   ]
  },
  {
   "cell_type": "code",
   "execution_count": 24,
   "metadata": {
    "colab": {},
    "colab_type": "code",
    "id": "2AQQkGIpv77b",
    "outputId": "c18b548f-ce18-4de4-8fbf-7e3745651825"
   },
   "outputs": [
    {
     "name": "stdout",
     "output_type": "stream",
     "text": [
      "Image Data Shape (1797, 64)\n",
      "Label Data Shape (1797,)\n"
     ]
    }
   ],
   "source": [
    "# Print to show there are 1797 images (8 by 8 images for a dimensionality of 64)\n",
    "print(\"Image Data Shape\" , digits.data.shape)\n",
    "\n",
    "# Print to show there are 1797 labels (integers from 0-9)\n",
    "print(\"Label Data Shape\", digits.target.shape)"
   ]
  },
  {
   "cell_type": "code",
   "execution_count": 25,
   "metadata": {
    "colab": {},
    "colab_type": "code",
    "id": "XdGEdpC4v771",
    "outputId": "9c09d62c-30b0-468c-ae38-8c511ac889f6"
   },
   "outputs": [
    {
     "data": {
      "image/png": "[encoded data removed]",
      "text/plain": [
       "<Figure size 1440x288 with 5 Axes>"
      ]
     },
     "metadata": {
      "needs_background": "light"
     },
     "output_type": "display_data"
    }
   ],
   "source": [
    "plt.figure(figsize=(20,4))\n",
    "for index, (image, label) in enumerate(zip(digits.data[0:5], digits.target[0:5])):\n",
    "    plt.subplot(1, 5, index + 1)\n",
    "    plt.imshow(np.reshape(image, (8,8)), cmap=plt.cm.gray)\n",
    "    plt.title('Training: %i\\n' % label, fontsize = 20)"
   ]
  },
  {
   "cell_type": "markdown",
   "metadata": {},
   "source": [
    "# Continuing with the Capstone project from this point"
   ]
  },
  {
   "cell_type": "markdown",
   "metadata": {},
   "source": [
    "Continuing with the task from this point. Please note I kept using the load_digits dataset (reduced version of mnist) since the mnist dataset (with 60k rows) kept giving me http 500 errors when I tried to retrieve it. Principles would have been applied the same to that dataset as the load_diggits dataset. "
   ]
  },
  {
   "cell_type": "markdown",
   "metadata": {},
   "source": [
    "### splitting the data between train, test and development sets 60/20/20"
   ]
  },
  {
   "cell_type": "code",
   "execution_count": 26,
   "metadata": {},
   "outputs": [],
   "source": [
    "from sklearn.model_selection import train_test_split\n",
    "\n",
    "# split 1\n",
    "X_train, X_test, y_train, y_test = train_test_split(digits.data, digits.target, test_size=0.2, random_state=42) # keeping seed the same\n",
    "\n",
    "# split 2 to generate validation/development set\n",
    "X_train, X_val, y_train, y_val = train_test_split(X_train, y_train, test_size=0.25, random_state=42) # keeping seed the same\n"
   ]
  },
  {
   "cell_type": "code",
   "execution_count": 27,
   "metadata": {},
   "outputs": [
    {
     "data": {
      "text/plain": [
       "array([0, 1, 2, ..., 8, 9, 8])"
      ]
     },
     "execution_count": 27,
     "metadata": {},
     "output_type": "execute_result"
    }
   ],
   "source": [
    "digits.target # inspecting the target variable array"
   ]
  },
  {
   "cell_type": "code",
   "execution_count": 28,
   "metadata": {},
   "outputs": [
    {
     "data": {
      "text/plain": [
       "array([[ 0.,  0.,  5., ...,  0.,  0.,  0.],\n",
       "       [ 0.,  0.,  0., ..., 10.,  0.,  0.],\n",
       "       [ 0.,  0.,  0., ..., 16.,  9.,  0.],\n",
       "       ...,\n",
       "       [ 0.,  0.,  1., ...,  6.,  0.,  0.],\n",
       "       [ 0.,  0.,  2., ..., 12.,  0.,  0.],\n",
       "       [ 0.,  0., 10., ..., 12.,  1.,  0.]])"
      ]
     },
     "execution_count": 28,
     "metadata": {},
     "output_type": "execute_result"
    }
   ],
   "source": [
    "digits.data  # inspecting the independent variable arrays"
   ]
  },
  {
   "cell_type": "code",
   "execution_count": 29,
   "metadata": {},
   "outputs": [
    {
     "name": "stdout",
     "output_type": "stream",
     "text": [
      "(1077, 64)\n",
      "(1077,)\n",
      "(360, 64)\n",
      "(360,)\n",
      "(360, 64)\n",
      "(360,)\n"
     ]
    }
   ],
   "source": [
    "print(X_train.shape)\n",
    "print(y_train.shape)\n",
    "print(X_test.shape)\n",
    "print(y_test.shape)\n",
    "print(X_val.shape)\n",
    "print(y_val.shape)"
   ]
  },
  {
   "cell_type": "markdown",
   "metadata": {},
   "source": [
    "### For purposes of this exercise I have selected logistics regression and the random forest decision tree"
   ]
  },
  {
   "cell_type": "markdown",
   "metadata": {},
   "source": [
    "The reason I selected these two modles was to see the difference between a model that assumes linear relationship (regression) with a model that does not assume it (random forest).I also want to see the impact of ensemble learning (many decision trees based on averaging out selection of random varialbles {random forest}) in this instance vs model that only works on an iteration approach (regression)."
   ]
  },
  {
   "cell_type": "markdown",
   "metadata": {},
   "source": [
    "### Logistic regression model"
   ]
  },
  {
   "cell_type": "code",
   "execution_count": 30,
   "metadata": {},
   "outputs": [
    {
     "name": "stderr",
     "output_type": "stream",
     "text": [
      "C:\\Users\\baren\\Anaconda3\\lib\\site-packages\\sklearn\\linear_model\\logistic.py:433: FutureWarning: Default solver will be changed to 'lbfgs' in 0.22. Specify a solver to silence this warning.\n",
      "  FutureWarning)\n",
      "C:\\Users\\baren\\Anaconda3\\lib\\site-packages\\sklearn\\linear_model\\logistic.py:460: FutureWarning: Default multi_class will be changed to 'auto' in 0.22. Specify the multi_class option to silence this warning.\n",
      "  \"this warning.\", FutureWarning)\n"
     ]
    },
    {
     "data": {
      "text/plain": [
       "LogisticRegression(C=1.0, class_weight=None, dual=False, fit_intercept=True,\n",
       "          intercept_scaling=1, max_iter=50, multi_class='warn',\n",
       "          n_jobs=None, penalty='l2', random_state=None, solver='warn',\n",
       "          tol=0.0001, verbose=0, warm_start=False)"
      ]
     },
     "execution_count": 30,
     "metadata": {},
     "output_type": "execute_result"
    }
   ],
   "source": [
    "from sklearn.linear_model import LogisticRegression\n",
    "\n",
    "logisticRegr = LogisticRegression(max_iter = 50)\n",
    "\n",
    "logisticRegr.fit(X_train, y_train) # viewing list of parameters to potentially change. In the case of the logistics regression\n",
    "# I did not change any parameters since it did not chnage the score or accuracy to the test or development sets\n"
   ]
  },
  {
   "cell_type": "code",
   "execution_count": 31,
   "metadata": {},
   "outputs": [
    {
     "data": {
      "text/plain": [
       "array([6, 9, 3, 7, 2, 1, 5, 2, 5, 2])"
      ]
     },
     "execution_count": 31,
     "metadata": {},
     "output_type": "execute_result"
    }
   ],
   "source": [
    "pred_y = logisticRegr.predict(X_test)\n",
    "pred_y[:10]"
   ]
  },
  {
   "cell_type": "markdown",
   "metadata": {},
   "source": [
    "#### producing predictions of target variable based on test set"
   ]
  },
  {
   "cell_type": "code",
   "execution_count": 32,
   "metadata": {},
   "outputs": [
    {
     "name": "stdout",
     "output_type": "stream",
     "text": [
      "0.9527777777777777\n"
     ]
    }
   ],
   "source": [
    "score_test = logisticRegr.score(X_test, y_test)\n",
    "print(score_test)  # regression model provides score/accuracy to development set of 95.27%"
   ]
  },
  {
   "cell_type": "code",
   "execution_count": 33,
   "metadata": {},
   "outputs": [
    {
     "name": "stdout",
     "output_type": "stream",
     "text": [
      "0.9527777777777777\n"
     ]
    }
   ],
   "source": [
    "score_val = logisticRegr.score(X_val, y_val)\n",
    "print(score_val)  # regression model provides score/accuracy to development set of 95.27% (same to test set) indicating that there might be no overfitting to the training data"
   ]
  },
  {
   "cell_type": "markdown",
   "metadata": {},
   "source": [
    "#### Creating confusion matrix and determining metrics for the logistcs regression model"
   ]
  },
  {
   "cell_type": "code",
   "execution_count": 34,
   "metadata": {},
   "outputs": [
    {
     "data": {
      "text/plain": [
       "array([[33,  0,  0,  0,  0,  0,  0,  0,  0,  0],\n",
       "       [ 0, 28,  0,  0,  0,  0,  0,  0,  0,  0],\n",
       "       [ 0,  0, 33,  0,  0,  0,  0,  0,  0,  0],\n",
       "       [ 0,  0,  0, 33,  0,  1,  0,  0,  0,  0],\n",
       "       [ 0,  1,  0,  0, 44,  0,  1,  0,  0,  0],\n",
       "       [ 0,  1,  0,  0,  0, 44,  1,  0,  0,  1],\n",
       "       [ 0,  0,  0,  0,  0,  1, 34,  0,  0,  0],\n",
       "       [ 0,  0,  0,  0,  0,  0,  0, 33,  0,  1],\n",
       "       [ 0,  2,  0,  0,  0,  1,  0,  0, 27,  0],\n",
       "       [ 0,  0,  0,  2,  0,  0,  0,  0,  4, 34]], dtype=int64)"
      ]
     },
     "execution_count": 34,
     "metadata": {},
     "output_type": "execute_result"
    }
   ],
   "source": [
    "from sklearn import metrics\n",
    "cnf_matrix = metrics.confusion_matrix(y_test, pred_y)\n",
    "cnf_matrix"
   ]
  },
  {
   "cell_type": "code",
   "execution_count": 35,
   "metadata": {},
   "outputs": [
    {
     "data": {
      "image/png": "[encoded data removed]",
      "text/plain": [
       "<Figure size 432x288 with 2 Axes>"
      ]
     },
     "metadata": {
      "needs_background": "light"
     },
     "output_type": "display_data"
    }
   ],
   "source": [
    "# creating the confusion matrix with visuals\n",
    "import seaborn as sns # adding additional visual library\n",
    "\n",
    "ax = plt.subplot()\n",
    "\n",
    "# create heatmap with labels of different categories in confusion matrix\n",
    "sns.heatmap(cnf_matrix, annot=True, ax = ax, cmap=\"YlGnBu\" ,fmt='g')\n",
    "ax.xaxis.set_label_position(\"top\")\n",
    "\n",
    "plt.tight_layout()\n",
    "# creating labels for header, true and predicted labels\n",
    "plt.title('Confusion matrix', y=1.1)\n",
    "plt.ylabel('True label')\n",
    "plt.xlabel('Predicted label')\n",
    "plt.show()"
   ]
  },
  {
   "cell_type": "markdown",
   "metadata": {},
   "source": [
    "#### calculating the accuracy, precision, recall and f1 scores"
   ]
  },
  {
   "cell_type": "code",
   "execution_count": 36,
   "metadata": {},
   "outputs": [
    {
     "name": "stdout",
     "output_type": "stream",
     "text": [
      "Accuracy: 0.9527777777777777\n",
      "Precision: [1.         0.875      1.         0.94285714 1.         0.93617021\n",
      " 0.94444444 1.         0.87096774 0.94444444]\n",
      "Recall: [1.         1.         1.         0.97058824 0.95652174 0.93617021\n",
      " 0.97142857 0.97058824 0.9        0.85      ]\n",
      "F1 score: [1.         0.93333333 1.         0.95652174 0.97777778 0.93617021\n",
      " 0.95774648 0.98507463 0.8852459  0.89473684]\n"
     ]
    }
   ],
   "source": [
    "print(\"Accuracy:\",metrics.accuracy_score(y_test, pred_y))\n",
    "print(\"Precision:\",metrics.precision_score(y_test, pred_y, average = None))\n",
    "print(\"Recall:\",metrics.recall_score(y_test, pred_y, average = None))\n",
    "print(\"F1 score:\",metrics.f1_score(y_test, pred_y, average = None))"
   ]
  },
  {
   "cell_type": "markdown",
   "metadata": {},
   "source": [
    "Taking the above metrics as well as confucion matrix into consideration it seems that the class of number 9 is the one struggled most with. In this instance 34 times the number was correctly assumed as the number 9, but there were 4 instances the model assumed it was number 8 and 2 instances as the number 3, leading to the recall of 85%. Other classes struggled with was the number 8 and 5 where in each instance the predictions for these were wrong 3 times. The predicted class of 1 also had the lowest precision since there  were 4 instances where the number was predicted as 1 but the actual labels were 4,5 and 8. \n",
    "Classes 1, 8 and 9 also had the lowest f1 scores."
   ]
  },
  {
   "cell_type": "markdown",
   "metadata": {},
   "source": [
    "### Starting with random forest model"
   ]
  },
  {
   "cell_type": "markdown",
   "metadata": {},
   "source": [
    "#### Creating a function to loop through various depth levels and to plot the scores between the test and development sets. In this instance i kept n_estimators at 100 and random states at 7 while only changing the max depth levels between 5 to 20 with increments of 3."
   ]
  },
  {
   "cell_type": "code",
   "execution_count": 37,
   "metadata": {},
   "outputs": [],
   "source": [
    "from sklearn.ensemble import RandomForestClassifier\n",
    "\n",
    "def rf_tree_model(x, y, test_X, test_y, val_X, val_y):\n",
    "    \n",
    "    # creating empty list to store the scores on the different sets (test and development)\n",
    "    \n",
    "    score_test = []\n",
    "    score_development = []\n",
    "    N = range(5, 21, 3)\n",
    "    \n",
    "    for i in N: # ranging depths between 5 to 20 with increments of 3\n",
    "        \n",
    "        RandomForest =  RandomForestClassifier(max_depth = i, n_estimators = 100, random_state = 7).fit(x, y)\n",
    "        pred_y_rf = RandomForest.predict(test_X)\n",
    "               \n",
    "        number1 = RandomForest.score(test_X, test_y)\n",
    "        number2 = RandomForest.score(val_X, val_y)\n",
    "        \n",
    "        score_test.append(number1)\n",
    "        score_development.append(number2) \n",
    "        \n",
    "    plt.plot(N, score_test)\n",
    "    plt.plot(N, score_development)\n",
    "    plt.title('Scores between test and development set')\n",
    "    plt.ylabel('Score')\n",
    "    plt.xlabel('Max Depth Level')\n",
    "    plt.legend(['score to test', 'score to development'])\n",
    "    plt.ylim(0.8, 1)\n",
    "    plt.xlim(5, 20)\n",
    "    \n",
    "    return score_test, score_development"
   ]
  },
  {
   "cell_type": "code",
   "execution_count": 38,
   "metadata": {},
   "outputs": [
    {
     "data": {
      "text/plain": [
       "([0.9305555555555556,\n",
       "  0.9694444444444444,\n",
       "  0.9694444444444444,\n",
       "  0.9638888888888889,\n",
       "  0.9638888888888889,\n",
       "  0.9638888888888889],\n",
       " [0.925,\n",
       "  0.9666666666666667,\n",
       "  0.9722222222222222,\n",
       "  0.9694444444444444,\n",
       "  0.9722222222222222,\n",
       "  0.9722222222222222])"
      ]
     },
     "execution_count": 38,
     "metadata": {},
     "output_type": "execute_result"
    },
    {
     "data": {
      "image/png": "[encoded data removed]",
      "text/plain": [
       "<Figure size 432x288 with 1 Axes>"
      ]
     },
     "metadata": {
      "needs_background": "light"
     },
     "output_type": "display_data"
    }
   ],
   "source": [
    "# running the function to inspect best scores based on tree depth for both the test and development sets\n",
    "rf_tree_model(X_train, y_train, X_test, y_test, X_val, y_val)"
   ]
  },
  {
   "cell_type": "markdown",
   "metadata": {},
   "source": [
    "Based on the above I will select max depth equating to 17 since the score is best here on the development set (97.2%) and the second best on the test set (96.38%) so as to select a model that is not overfitting on the training data."
   ]
  },
  {
   "cell_type": "markdown",
   "metadata": {},
   "source": [
    "#### Creating random forest with max_depth of 17."
   ]
  },
  {
   "cell_type": "code",
   "execution_count": 39,
   "metadata": {},
   "outputs": [
    {
     "name": "stdout",
     "output_type": "stream",
     "text": [
      "0.9638888888888889\n",
      "0.9722222222222222\n"
     ]
    }
   ],
   "source": [
    "RandomForest =  RandomForestClassifier(max_depth = 17, n_estimators = 100, random_state = 7).fit(X_train, y_train)\n",
    "pred_y_rf = RandomForest.predict(X_test)\n",
    "               \n",
    "print(RandomForest.score(X_test, y_test)) # confirming that figures matches the one ran in the function\n",
    "print(RandomForest.score(X_val, y_val)) # confirming that figures matches the one ran in the function      "
   ]
  },
  {
   "cell_type": "code",
   "execution_count": 40,
   "metadata": {},
   "outputs": [
    {
     "data": {
      "text/plain": [
       "array([6, 9, 3, 7, 2, 1, 5, 2, 5, 2])"
      ]
     },
     "execution_count": 40,
     "metadata": {},
     "output_type": "execute_result"
    }
   ],
   "source": [
    "pred_y_rf[:10] # inspecting some of the predictions"
   ]
  },
  {
   "cell_type": "markdown",
   "metadata": {},
   "source": [
    "#### Creating confusion matrix and calculating metrics for random forest model with max depth of 17"
   ]
  },
  {
   "cell_type": "code",
   "execution_count": 41,
   "metadata": {},
   "outputs": [
    {
     "data": {
      "text/plain": [
       "array([[32,  0,  0,  0,  1,  0,  0,  0,  0,  0],\n",
       "       [ 0, 28,  0,  0,  0,  0,  0,  0,  0,  0],\n",
       "       [ 0,  0, 33,  0,  0,  0,  0,  0,  0,  0],\n",
       "       [ 0,  0,  0, 33,  0,  1,  0,  0,  0,  0],\n",
       "       [ 0,  0,  0,  0, 46,  0,  0,  0,  0,  0],\n",
       "       [ 0,  0,  0,  0,  0, 43,  1,  0,  0,  3],\n",
       "       [ 0,  0,  0,  0,  0,  1, 34,  0,  0,  0],\n",
       "       [ 0,  0,  0,  0,  0,  0,  0, 33,  0,  1],\n",
       "       [ 0,  2,  0,  0,  0,  0,  0,  0, 28,  0],\n",
       "       [ 0,  0,  0,  0,  0,  1,  0,  0,  2, 37]], dtype=int64)"
      ]
     },
     "execution_count": 41,
     "metadata": {},
     "output_type": "execute_result"
    }
   ],
   "source": [
    "cnf_matrix = metrics.confusion_matrix(y_test, pred_y_rf)\n",
    "cnf_matrix"
   ]
  },
  {
   "cell_type": "code",
   "execution_count": 42,
   "metadata": {},
   "outputs": [
    {
     "data": {
      "image/png": "[encoded data removed]",
      "text/plain": [
       "<Figure size 432x288 with 2 Axes>"
      ]
     },
     "metadata": {
      "needs_background": "light"
     },
     "output_type": "display_data"
    }
   ],
   "source": [
    "# creating the confusion matrix with visuals\n",
    "import seaborn as sns # adding additional visual library\n",
    "\n",
    "ax = plt.subplot()\n",
    "\n",
    "# create heatmap with labels of different categories in confusion matrix\n",
    "sns.heatmap(cnf_matrix, annot=True, ax = ax, cmap=\"YlGnBu\" ,fmt='g')\n",
    "ax.xaxis.set_label_position(\"top\")\n",
    "\n",
    "plt.tight_layout()\n",
    "# creating labels for header, true and predicted labels\n",
    "plt.title('Confusion matrix', y=1.1)\n",
    "plt.ylabel('True label')\n",
    "plt.xlabel('Predicted label')\n",
    "plt.show()"
   ]
  },
  {
   "cell_type": "markdown",
   "metadata": {},
   "source": [
    "#### calculating the accuracy, precision, recall and f1 scores"
   ]
  },
  {
   "cell_type": "code",
   "execution_count": 43,
   "metadata": {},
   "outputs": [
    {
     "name": "stdout",
     "output_type": "stream",
     "text": [
      "Accuracy: 0.9638888888888889\n",
      "Precision: [1.         0.93333333 1.         1.         0.9787234  0.93478261\n",
      " 0.97142857 1.         0.93333333 0.90243902]\n",
      "Recall: [0.96969697 1.         1.         0.97058824 1.         0.91489362\n",
      " 0.97142857 0.97058824 0.93333333 0.925     ]\n",
      "F1 score: [0.98461538 0.96551724 1.         0.98507463 0.98924731 0.92473118\n",
      " 0.97142857 0.98507463 0.93333333 0.91358025]\n"
     ]
    }
   ],
   "source": [
    "print(\"Accuracy:\",metrics.accuracy_score(y_test, pred_y_rf))\n",
    "print(\"Precision:\",metrics.precision_score(y_test, pred_y_rf, average = None))\n",
    "print(\"Recall:\",metrics.recall_score(y_test, pred_y_rf, average = None))\n",
    "print(\"F1 score:\",metrics.f1_score(y_test, pred_y_rf, average = None))"
   ]
  },
  {
   "cell_type": "markdown",
   "metadata": {},
   "source": [
    "Taking the above metrics as well as confusion matrix into consideration it seems that the classes of numbers 9, 8 and 5 was the numbers struggled most with. Here these numbers had the lowest precision  as well as some of the lowest recall ratings. Classes 8, 9 and 5 also has the lowest f1 scores."
   ]
  }
 ],
 "metadata": {
  "colab": {
   "name": "MNIST.ipynb",
   "provenance": [],
   "version": "0.3.2"
  },
  "kernelspec": {
   "display_name": "Python 3",
   "language": "python",
   "name": "python3"
  },
  "language_info": {
   "codemirror_mode": {
    "name": "ipython",
    "version": 3
   },
   "file_extension": ".py",
   "mimetype": "text/x-python",
   "name": "python",
   "nbconvert_exporter": "python",
   "pygments_lexer": "ipython3",
   "version": "3.7.3"
  }
 },
 "nbformat": 4,
 "nbformat_minor": 1
}
